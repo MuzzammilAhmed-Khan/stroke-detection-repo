{
 "cells": [
  {
   "cell_type": "markdown",
   "id": "389f0605",
   "metadata": {
    "_cell_guid": "b1076dfc-b9ad-4769-8c92-a6c4dae69d19",
    "_uuid": "8f2839f25d086af736a60e9eeb907d3b93b6e0e5",
    "papermill": {
     "duration": 0.022321,
     "end_time": "2023-03-31T17:06:11.250573",
     "exception": false,
     "start_time": "2023-03-31T17:06:11.228252",
     "status": "completed"
    },
    "tags": []
   },
   "source": [
    "# Stroke Prediction "
   ]
  },
  {
   "cell_type": "markdown",
   "id": "1dfd80c1",
   "metadata": {
    "papermill": {
     "duration": 0.020304,
     "end_time": "2023-03-31T17:06:11.417576",
     "exception": false,
     "start_time": "2023-03-31T17:06:11.397272",
     "status": "completed"
    },
    "tags": []
   },
   "source": [
    "### Importing Libraries"
   ]
  },
  {
   "cell_type": "code",
   "execution_count": 19,
   "id": "cd2d79c6",
   "metadata": {
    "execution": {
     "iopub.execute_input": "2023-03-31T17:06:11.461142Z",
     "iopub.status.busy": "2023-03-31T17:06:11.460410Z",
     "iopub.status.idle": "2023-03-31T17:06:14.941660Z",
     "shell.execute_reply": "2023-03-31T17:06:14.940702Z"
    },
    "papermill": {
     "duration": 3.507671,
     "end_time": "2023-03-31T17:06:14.945740",
     "exception": false,
     "start_time": "2023-03-31T17:06:11.438069",
     "status": "completed"
    },
    "tags": []
   },
   "outputs": [],
   "source": [
    "import numpy as np\n",
    "import pandas as pd\n",
    "import matplotlib.pyplot as plt # type: ignore\n",
    "import seaborn as sns # type: ignore\n",
    "\n",
    "from sklearn.metrics import accuracy_score, f1_score, precision_score, recall_score\n",
    "from sklearn.metrics import confusion_matrix, roc_auc_score, roc_curve, classification_report, precision_recall_curve\n",
    "from sklearn.model_selection import train_test_split, cross_val_score\n",
    "from sklearn.preprocessing import LabelEncoder, StandardScaler\n",
    "from xgboost import XGBClassifier\n",
    "from sklearn.ensemble import RandomForestClassifier\n",
    "\n",
    "%matplotlib inline\n",
    "import warnings\n",
    "warnings.filterwarnings(\"ignore\")"
   ]
  },
  {
   "cell_type": "code",
   "execution_count": 20,
   "id": "6ffe6fb7",
   "metadata": {
    "execution": {
     "iopub.execute_input": "2023-03-31T17:06:15.032020Z",
     "iopub.status.busy": "2023-03-31T17:06:15.031550Z",
     "iopub.status.idle": "2023-03-31T17:06:15.096085Z",
     "shell.execute_reply": "2023-03-31T17:06:15.094710Z"
    },
    "papermill": {
     "duration": 0.090064,
     "end_time": "2023-03-31T17:06:15.098936",
     "exception": false,
     "start_time": "2023-03-31T17:06:15.008872",
     "status": "completed"
    },
    "tags": []
   },
   "outputs": [
    {
     "data": {
      "text/html": [
       "<div>\n",
       "<style scoped>\n",
       "    .dataframe tbody tr th:only-of-type {\n",
       "        vertical-align: middle;\n",
       "    }\n",
       "\n",
       "    .dataframe tbody tr th {\n",
       "        vertical-align: top;\n",
       "    }\n",
       "\n",
       "    .dataframe thead th {\n",
       "        text-align: right;\n",
       "    }\n",
       "</style>\n",
       "<table border=\"1\" class=\"dataframe\">\n",
       "  <thead>\n",
       "    <tr style=\"text-align: right;\">\n",
       "      <th></th>\n",
       "      <th>id</th>\n",
       "      <th>gender</th>\n",
       "      <th>age</th>\n",
       "      <th>hypertension</th>\n",
       "      <th>heart_disease</th>\n",
       "      <th>ever_married</th>\n",
       "      <th>work_type</th>\n",
       "      <th>Residence_type</th>\n",
       "      <th>avg_glucose_level</th>\n",
       "      <th>bmi</th>\n",
       "      <th>smoking_status</th>\n",
       "      <th>stroke</th>\n",
       "    </tr>\n",
       "  </thead>\n",
       "  <tbody>\n",
       "    <tr>\n",
       "      <th>0</th>\n",
       "      <td>9046</td>\n",
       "      <td>Male</td>\n",
       "      <td>67.0</td>\n",
       "      <td>0</td>\n",
       "      <td>1</td>\n",
       "      <td>Yes</td>\n",
       "      <td>Private</td>\n",
       "      <td>Urban</td>\n",
       "      <td>228.69</td>\n",
       "      <td>36.6</td>\n",
       "      <td>formerly smoked</td>\n",
       "      <td>1</td>\n",
       "    </tr>\n",
       "    <tr>\n",
       "      <th>1</th>\n",
       "      <td>51676</td>\n",
       "      <td>Female</td>\n",
       "      <td>61.0</td>\n",
       "      <td>0</td>\n",
       "      <td>0</td>\n",
       "      <td>Yes</td>\n",
       "      <td>Self-employed</td>\n",
       "      <td>Rural</td>\n",
       "      <td>202.21</td>\n",
       "      <td>NaN</td>\n",
       "      <td>never smoked</td>\n",
       "      <td>1</td>\n",
       "    </tr>\n",
       "    <tr>\n",
       "      <th>2</th>\n",
       "      <td>31112</td>\n",
       "      <td>Male</td>\n",
       "      <td>80.0</td>\n",
       "      <td>0</td>\n",
       "      <td>1</td>\n",
       "      <td>Yes</td>\n",
       "      <td>Private</td>\n",
       "      <td>Rural</td>\n",
       "      <td>105.92</td>\n",
       "      <td>32.5</td>\n",
       "      <td>never smoked</td>\n",
       "      <td>1</td>\n",
       "    </tr>\n",
       "    <tr>\n",
       "      <th>3</th>\n",
       "      <td>60182</td>\n",
       "      <td>Female</td>\n",
       "      <td>49.0</td>\n",
       "      <td>0</td>\n",
       "      <td>0</td>\n",
       "      <td>Yes</td>\n",
       "      <td>Private</td>\n",
       "      <td>Urban</td>\n",
       "      <td>171.23</td>\n",
       "      <td>34.4</td>\n",
       "      <td>smokes</td>\n",
       "      <td>1</td>\n",
       "    </tr>\n",
       "    <tr>\n",
       "      <th>4</th>\n",
       "      <td>1665</td>\n",
       "      <td>Female</td>\n",
       "      <td>79.0</td>\n",
       "      <td>1</td>\n",
       "      <td>0</td>\n",
       "      <td>Yes</td>\n",
       "      <td>Self-employed</td>\n",
       "      <td>Rural</td>\n",
       "      <td>174.12</td>\n",
       "      <td>24.0</td>\n",
       "      <td>never smoked</td>\n",
       "      <td>1</td>\n",
       "    </tr>\n",
       "  </tbody>\n",
       "</table>\n",
       "</div>"
      ],
      "text/plain": [
       "      id  gender   age  hypertension  heart_disease ever_married  \\\n",
       "0   9046    Male  67.0             0              1          Yes   \n",
       "1  51676  Female  61.0             0              0          Yes   \n",
       "2  31112    Male  80.0             0              1          Yes   \n",
       "3  60182  Female  49.0             0              0          Yes   \n",
       "4   1665  Female  79.0             1              0          Yes   \n",
       "\n",
       "       work_type Residence_type  avg_glucose_level   bmi   smoking_status  \\\n",
       "0        Private          Urban             228.69  36.6  formerly smoked   \n",
       "1  Self-employed          Rural             202.21   NaN     never smoked   \n",
       "2        Private          Rural             105.92  32.5     never smoked   \n",
       "3        Private          Urban             171.23  34.4           smokes   \n",
       "4  Self-employed          Rural             174.12  24.0     never smoked   \n",
       "\n",
       "   stroke  \n",
       "0       1  \n",
       "1       1  \n",
       "2       1  \n",
       "3       1  \n",
       "4       1  "
      ]
     },
     "execution_count": 20,
     "metadata": {},
     "output_type": "execute_result"
    }
   ],
   "source": [
    "data = pd.read_csv(\"stroke-dataset.csv\")\n",
    "dataframe = data.copy()\n",
    "dataframe.head()"
   ]
  },
  {
   "cell_type": "markdown",
   "id": "4fcdfa5e",
   "metadata": {
    "papermill": {
     "duration": 0.035204,
     "end_time": "2023-03-31T17:06:15.157826",
     "exception": false,
     "start_time": "2023-03-31T17:06:15.122622",
     "status": "completed"
    },
    "tags": []
   },
   "source": [
    "# Exploratory Data Analysis"
   ]
  },
  {
   "cell_type": "code",
   "execution_count": 21,
   "id": "5e7d7fb7",
   "metadata": {},
   "outputs": [
    {
     "name": "stdout",
     "output_type": "stream",
     "text": [
      "<class 'pandas.core.frame.DataFrame'>\n",
      "RangeIndex: 5110 entries, 0 to 5109\n",
      "Data columns (total 12 columns):\n",
      " #   Column             Non-Null Count  Dtype  \n",
      "---  ------             --------------  -----  \n",
      " 0   id                 5110 non-null   int64  \n",
      " 1   gender             5110 non-null   object \n",
      " 2   age                5110 non-null   float64\n",
      " 3   hypertension       5110 non-null   int64  \n",
      " 4   heart_disease      5110 non-null   int64  \n",
      " 5   ever_married       5110 non-null   object \n",
      " 6   work_type          5110 non-null   object \n",
      " 7   Residence_type     5110 non-null   object \n",
      " 8   avg_glucose_level  5110 non-null   float64\n",
      " 9   bmi                4909 non-null   float64\n",
      " 10  smoking_status     5110 non-null   object \n",
      " 11  stroke             5110 non-null   int64  \n",
      "dtypes: float64(3), int64(4), object(5)\n",
      "memory usage: 479.2+ KB\n"
     ]
    }
   ],
   "source": [
    "dataframe.info()\n"
   ]
  },
  {
   "cell_type": "code",
   "execution_count": 22,
   "id": "0b6b8f73",
   "metadata": {},
   "outputs": [
    {
     "data": {
      "text/plain": [
       "(5110, 12)"
      ]
     },
     "execution_count": 22,
     "metadata": {},
     "output_type": "execute_result"
    }
   ],
   "source": [
    "dataframe.shape\n",
    "    "
   ]
  },
  {
   "cell_type": "code",
   "execution_count": 23,
   "id": "60e4f8d9",
   "metadata": {},
   "outputs": [
    {
     "data": {
      "text/html": [
       "<div>\n",
       "<style scoped>\n",
       "    .dataframe tbody tr th:only-of-type {\n",
       "        vertical-align: middle;\n",
       "    }\n",
       "\n",
       "    .dataframe tbody tr th {\n",
       "        vertical-align: top;\n",
       "    }\n",
       "\n",
       "    .dataframe thead th {\n",
       "        text-align: right;\n",
       "    }\n",
       "</style>\n",
       "<table border=\"1\" class=\"dataframe\">\n",
       "  <thead>\n",
       "    <tr style=\"text-align: right;\">\n",
       "      <th></th>\n",
       "      <th>id</th>\n",
       "      <th>age</th>\n",
       "      <th>hypertension</th>\n",
       "      <th>heart_disease</th>\n",
       "      <th>avg_glucose_level</th>\n",
       "      <th>bmi</th>\n",
       "      <th>stroke</th>\n",
       "    </tr>\n",
       "  </thead>\n",
       "  <tbody>\n",
       "    <tr>\n",
       "      <th>count</th>\n",
       "      <td>5110.000000</td>\n",
       "      <td>5110.000000</td>\n",
       "      <td>5110.000000</td>\n",
       "      <td>5110.000000</td>\n",
       "      <td>5110.000000</td>\n",
       "      <td>4909.000000</td>\n",
       "      <td>5110.000000</td>\n",
       "    </tr>\n",
       "    <tr>\n",
       "      <th>mean</th>\n",
       "      <td>36517.829354</td>\n",
       "      <td>43.226614</td>\n",
       "      <td>0.097456</td>\n",
       "      <td>0.054012</td>\n",
       "      <td>106.147677</td>\n",
       "      <td>28.893237</td>\n",
       "      <td>0.048728</td>\n",
       "    </tr>\n",
       "    <tr>\n",
       "      <th>std</th>\n",
       "      <td>21161.721625</td>\n",
       "      <td>22.612647</td>\n",
       "      <td>0.296607</td>\n",
       "      <td>0.226063</td>\n",
       "      <td>45.283560</td>\n",
       "      <td>7.854067</td>\n",
       "      <td>0.215320</td>\n",
       "    </tr>\n",
       "    <tr>\n",
       "      <th>min</th>\n",
       "      <td>67.000000</td>\n",
       "      <td>0.080000</td>\n",
       "      <td>0.000000</td>\n",
       "      <td>0.000000</td>\n",
       "      <td>55.120000</td>\n",
       "      <td>10.300000</td>\n",
       "      <td>0.000000</td>\n",
       "    </tr>\n",
       "    <tr>\n",
       "      <th>25%</th>\n",
       "      <td>17741.250000</td>\n",
       "      <td>25.000000</td>\n",
       "      <td>0.000000</td>\n",
       "      <td>0.000000</td>\n",
       "      <td>77.245000</td>\n",
       "      <td>23.500000</td>\n",
       "      <td>0.000000</td>\n",
       "    </tr>\n",
       "    <tr>\n",
       "      <th>50%</th>\n",
       "      <td>36932.000000</td>\n",
       "      <td>45.000000</td>\n",
       "      <td>0.000000</td>\n",
       "      <td>0.000000</td>\n",
       "      <td>91.885000</td>\n",
       "      <td>28.100000</td>\n",
       "      <td>0.000000</td>\n",
       "    </tr>\n",
       "    <tr>\n",
       "      <th>75%</th>\n",
       "      <td>54682.000000</td>\n",
       "      <td>61.000000</td>\n",
       "      <td>0.000000</td>\n",
       "      <td>0.000000</td>\n",
       "      <td>114.090000</td>\n",
       "      <td>33.100000</td>\n",
       "      <td>0.000000</td>\n",
       "    </tr>\n",
       "    <tr>\n",
       "      <th>max</th>\n",
       "      <td>72940.000000</td>\n",
       "      <td>82.000000</td>\n",
       "      <td>1.000000</td>\n",
       "      <td>1.000000</td>\n",
       "      <td>271.740000</td>\n",
       "      <td>97.600000</td>\n",
       "      <td>1.000000</td>\n",
       "    </tr>\n",
       "  </tbody>\n",
       "</table>\n",
       "</div>"
      ],
      "text/plain": [
       "                 id          age  hypertension  heart_disease  \\\n",
       "count   5110.000000  5110.000000   5110.000000    5110.000000   \n",
       "mean   36517.829354    43.226614      0.097456       0.054012   \n",
       "std    21161.721625    22.612647      0.296607       0.226063   \n",
       "min       67.000000     0.080000      0.000000       0.000000   \n",
       "25%    17741.250000    25.000000      0.000000       0.000000   \n",
       "50%    36932.000000    45.000000      0.000000       0.000000   \n",
       "75%    54682.000000    61.000000      0.000000       0.000000   \n",
       "max    72940.000000    82.000000      1.000000       1.000000   \n",
       "\n",
       "       avg_glucose_level          bmi       stroke  \n",
       "count        5110.000000  4909.000000  5110.000000  \n",
       "mean          106.147677    28.893237     0.048728  \n",
       "std            45.283560     7.854067     0.215320  \n",
       "min            55.120000    10.300000     0.000000  \n",
       "25%            77.245000    23.500000     0.000000  \n",
       "50%            91.885000    28.100000     0.000000  \n",
       "75%           114.090000    33.100000     0.000000  \n",
       "max           271.740000    97.600000     1.000000  "
      ]
     },
     "execution_count": 23,
     "metadata": {},
     "output_type": "execute_result"
    }
   ],
   "source": [
    "dataframe.describe()\n"
   ]
  },
  {
   "cell_type": "markdown",
   "id": "aec28485",
   "metadata": {},
   "source": [
    "## Data Preprocessing"
   ]
  },
  {
   "cell_type": "code",
   "execution_count": 24,
   "id": "d4def177",
   "metadata": {
    "execution": {
     "iopub.execute_input": "2023-03-31T17:06:15.314372Z",
     "iopub.status.busy": "2023-03-31T17:06:15.313575Z",
     "iopub.status.idle": "2023-03-31T17:06:15.382182Z",
     "shell.execute_reply": "2023-03-31T17:06:15.379385Z"
    },
    "papermill": {
     "duration": 0.095597,
     "end_time": "2023-03-31T17:06:15.386251",
     "exception": false,
     "start_time": "2023-03-31T17:06:15.290654",
     "status": "completed"
    },
    "tags": []
   },
   "outputs": [
    {
     "data": {
      "text/plain": [
       "id                     0\n",
       "gender                 0\n",
       "age                    0\n",
       "hypertension           0\n",
       "heart_disease          0\n",
       "ever_married           0\n",
       "work_type              0\n",
       "Residence_type         0\n",
       "avg_glucose_level      0\n",
       "bmi                  201\n",
       "smoking_status         0\n",
       "stroke                 0\n",
       "dtype: int64"
      ]
     },
     "execution_count": 24,
     "metadata": {},
     "output_type": "execute_result"
    }
   ],
   "source": [
    "dataframe.isnull().sum()\n"
   ]
  },
  {
   "cell_type": "code",
   "execution_count": 25,
   "id": "87adcfb5",
   "metadata": {},
   "outputs": [],
   "source": [
    "dataframe = dataframe.dropna()"
   ]
  },
  {
   "cell_type": "code",
   "execution_count": 26,
   "id": "9beb8870",
   "metadata": {},
   "outputs": [
    {
     "data": {
      "text/plain": [
       "(4909, 11)"
      ]
     },
     "execution_count": 26,
     "metadata": {},
     "output_type": "execute_result"
    }
   ],
   "source": [
    "dataframe = dataframe.drop(['id'], axis=1)\n",
    "dataframe.shape"
   ]
  },
  {
   "cell_type": "code",
   "execution_count": 27,
   "id": "8dc68166",
   "metadata": {},
   "outputs": [
    {
     "name": "stdout",
     "output_type": "stream",
     "text": [
      "['Male' 'Female' 'Other']\n",
      "[0 1]\n",
      "[1 0]\n",
      "['Yes' 'No']\n",
      "['Private' 'Self-employed' 'Govt_job' 'children' 'Never_worked']\n",
      "['Urban' 'Rural']\n",
      "['formerly smoked' 'never smoked' 'smokes' 'Unknown']\n"
     ]
    }
   ],
   "source": [
    "print(dataframe[\"gender\"].unique())\n",
    "print(dataframe[\"hypertension\"].unique())\n",
    "print(dataframe[\"heart_disease\"].unique())\n",
    "print(dataframe[\"ever_married\"].unique())\n",
    "print(dataframe[\"work_type\"].unique())\n",
    "print(dataframe[\"Residence_type\"].unique())\n",
    "print(dataframe[\"smoking_status\"].unique())"
   ]
  },
  {
   "cell_type": "code",
   "execution_count": 28,
   "id": "d67e49b0",
   "metadata": {},
   "outputs": [
    {
     "name": "stdout",
     "output_type": "stream",
     "text": [
      "(4909, 11)\n"
     ]
    },
    {
     "data": {
      "text/html": [
       "<div>\n",
       "<style scoped>\n",
       "    .dataframe tbody tr th:only-of-type {\n",
       "        vertical-align: middle;\n",
       "    }\n",
       "\n",
       "    .dataframe tbody tr th {\n",
       "        vertical-align: top;\n",
       "    }\n",
       "\n",
       "    .dataframe thead th {\n",
       "        text-align: right;\n",
       "    }\n",
       "</style>\n",
       "<table border=\"1\" class=\"dataframe\">\n",
       "  <thead>\n",
       "    <tr style=\"text-align: right;\">\n",
       "      <th></th>\n",
       "      <th>gender</th>\n",
       "      <th>age</th>\n",
       "      <th>hypertension</th>\n",
       "      <th>heart_disease</th>\n",
       "      <th>ever_married</th>\n",
       "      <th>work_type</th>\n",
       "      <th>Residence_type</th>\n",
       "      <th>avg_glucose_level</th>\n",
       "      <th>bmi</th>\n",
       "      <th>smoking_status</th>\n",
       "      <th>stroke</th>\n",
       "    </tr>\n",
       "  </thead>\n",
       "  <tbody>\n",
       "    <tr>\n",
       "      <th>0</th>\n",
       "      <td>1</td>\n",
       "      <td>67.0</td>\n",
       "      <td>0</td>\n",
       "      <td>1</td>\n",
       "      <td>1</td>\n",
       "      <td>2</td>\n",
       "      <td>1</td>\n",
       "      <td>228.69</td>\n",
       "      <td>36.6</td>\n",
       "      <td>1</td>\n",
       "      <td>1</td>\n",
       "    </tr>\n",
       "    <tr>\n",
       "      <th>2</th>\n",
       "      <td>1</td>\n",
       "      <td>80.0</td>\n",
       "      <td>0</td>\n",
       "      <td>1</td>\n",
       "      <td>1</td>\n",
       "      <td>2</td>\n",
       "      <td>0</td>\n",
       "      <td>105.92</td>\n",
       "      <td>32.5</td>\n",
       "      <td>2</td>\n",
       "      <td>1</td>\n",
       "    </tr>\n",
       "    <tr>\n",
       "      <th>3</th>\n",
       "      <td>0</td>\n",
       "      <td>49.0</td>\n",
       "      <td>0</td>\n",
       "      <td>0</td>\n",
       "      <td>1</td>\n",
       "      <td>2</td>\n",
       "      <td>1</td>\n",
       "      <td>171.23</td>\n",
       "      <td>34.4</td>\n",
       "      <td>3</td>\n",
       "      <td>1</td>\n",
       "    </tr>\n",
       "    <tr>\n",
       "      <th>4</th>\n",
       "      <td>0</td>\n",
       "      <td>79.0</td>\n",
       "      <td>1</td>\n",
       "      <td>0</td>\n",
       "      <td>1</td>\n",
       "      <td>3</td>\n",
       "      <td>0</td>\n",
       "      <td>174.12</td>\n",
       "      <td>24.0</td>\n",
       "      <td>2</td>\n",
       "      <td>1</td>\n",
       "    </tr>\n",
       "    <tr>\n",
       "      <th>5</th>\n",
       "      <td>1</td>\n",
       "      <td>81.0</td>\n",
       "      <td>0</td>\n",
       "      <td>0</td>\n",
       "      <td>1</td>\n",
       "      <td>2</td>\n",
       "      <td>1</td>\n",
       "      <td>186.21</td>\n",
       "      <td>29.0</td>\n",
       "      <td>1</td>\n",
       "      <td>1</td>\n",
       "    </tr>\n",
       "  </tbody>\n",
       "</table>\n",
       "</div>"
      ],
      "text/plain": [
       "   gender   age  hypertension  heart_disease  ever_married  work_type  \\\n",
       "0       1  67.0             0              1             1          2   \n",
       "2       1  80.0             0              1             1          2   \n",
       "3       0  49.0             0              0             1          2   \n",
       "4       0  79.0             1              0             1          3   \n",
       "5       1  81.0             0              0             1          2   \n",
       "\n",
       "   Residence_type  avg_glucose_level   bmi  smoking_status  stroke  \n",
       "0               1             228.69  36.6               1       1  \n",
       "2               0             105.92  32.5               2       1  \n",
       "3               1             171.23  34.4               3       1  \n",
       "4               0             174.12  24.0               2       1  \n",
       "5               1             186.21  29.0               1       1  "
      ]
     },
     "execution_count": 28,
     "metadata": {},
     "output_type": "execute_result"
    }
   ],
   "source": [
    "le = LabelEncoder()\n",
    "\n",
    "cat_columns = [\"gender\", \"ever_married\", \"work_type\", \"Residence_type\", \"smoking_status\"]\n",
    "for cat_column in cat_columns:\n",
    "    dataframe[cat_column] = le.fit_transform(dataframe[cat_column])\n",
    "    \n",
    "print(dataframe.shape)\n",
    "dataframe.head()"
   ]
  },
  {
   "cell_type": "code",
   "execution_count": 29,
   "id": "bdeec672",
   "metadata": {
    "papermill": {
     "duration": 0.024818,
     "end_time": "2023-03-31T17:06:17.625851",
     "exception": false,
     "start_time": "2023-03-31T17:06:17.601033",
     "status": "completed"
    },
    "tags": []
   },
   "outputs": [
    {
     "name": "stdout",
     "output_type": "stream",
     "text": [
      "[1 0 2]\n",
      "[0 1]\n",
      "[1 0]\n",
      "[1 0]\n",
      "[2 3 0 4 1]\n",
      "[1 0]\n",
      "[1 2 3 0]\n"
     ]
    }
   ],
   "source": [
    "print(dataframe[\"gender\"].unique())\n",
    "print(dataframe[\"hypertension\"].unique())\n",
    "print(dataframe[\"heart_disease\"].unique())\n",
    "print(dataframe[\"ever_married\"].unique())\n",
    "print(dataframe[\"work_type\"].unique())\n",
    "print(dataframe[\"Residence_type\"].unique())\n",
    "print(dataframe[\"smoking_status\"].unique())"
   ]
  },
  {
   "cell_type": "code",
   "execution_count": 30,
   "id": "543f8c9b",
   "metadata": {},
   "outputs": [],
   "source": [
    "\n",
    "dataframe['bmi'].fillna(0, inplace=True)"
   ]
  },
  {
   "cell_type": "code",
   "execution_count": 31,
   "id": "6d739b1b",
   "metadata": {
    "execution": {
     "iopub.execute_input": "2023-03-31T17:06:18.005363Z",
     "iopub.status.busy": "2023-03-31T17:06:18.004076Z",
     "iopub.status.idle": "2023-03-31T17:06:18.028025Z",
     "shell.execute_reply": "2023-03-31T17:06:18.026667Z"
    },
    "papermill": {
     "duration": 0.05363,
     "end_time": "2023-03-31T17:06:18.031211",
     "exception": false,
     "start_time": "2023-03-31T17:06:17.977581",
     "status": "completed"
    },
    "tags": []
   },
   "outputs": [
    {
     "data": {
      "text/html": [
       "<div>\n",
       "<style scoped>\n",
       "    .dataframe tbody tr th:only-of-type {\n",
       "        vertical-align: middle;\n",
       "    }\n",
       "\n",
       "    .dataframe tbody tr th {\n",
       "        vertical-align: top;\n",
       "    }\n",
       "\n",
       "    .dataframe thead th {\n",
       "        text-align: right;\n",
       "    }\n",
       "</style>\n",
       "<table border=\"1\" class=\"dataframe\">\n",
       "  <thead>\n",
       "    <tr style=\"text-align: right;\">\n",
       "      <th></th>\n",
       "      <th>gender</th>\n",
       "      <th>age</th>\n",
       "      <th>hypertension</th>\n",
       "      <th>heart_disease</th>\n",
       "      <th>ever_married</th>\n",
       "      <th>work_type</th>\n",
       "      <th>Residence_type</th>\n",
       "      <th>avg_glucose_level</th>\n",
       "      <th>bmi</th>\n",
       "      <th>smoking_status</th>\n",
       "      <th>stroke</th>\n",
       "    </tr>\n",
       "  </thead>\n",
       "  <tbody>\n",
       "    <tr>\n",
       "      <th>0</th>\n",
       "      <td>1</td>\n",
       "      <td>67.0</td>\n",
       "      <td>0</td>\n",
       "      <td>1</td>\n",
       "      <td>1</td>\n",
       "      <td>2</td>\n",
       "      <td>1</td>\n",
       "      <td>228.69</td>\n",
       "      <td>36.6</td>\n",
       "      <td>1</td>\n",
       "      <td>1</td>\n",
       "    </tr>\n",
       "    <tr>\n",
       "      <th>2</th>\n",
       "      <td>1</td>\n",
       "      <td>80.0</td>\n",
       "      <td>0</td>\n",
       "      <td>1</td>\n",
       "      <td>1</td>\n",
       "      <td>2</td>\n",
       "      <td>0</td>\n",
       "      <td>105.92</td>\n",
       "      <td>32.5</td>\n",
       "      <td>2</td>\n",
       "      <td>1</td>\n",
       "    </tr>\n",
       "    <tr>\n",
       "      <th>3</th>\n",
       "      <td>0</td>\n",
       "      <td>49.0</td>\n",
       "      <td>0</td>\n",
       "      <td>0</td>\n",
       "      <td>1</td>\n",
       "      <td>2</td>\n",
       "      <td>1</td>\n",
       "      <td>171.23</td>\n",
       "      <td>34.4</td>\n",
       "      <td>3</td>\n",
       "      <td>1</td>\n",
       "    </tr>\n",
       "    <tr>\n",
       "      <th>4</th>\n",
       "      <td>0</td>\n",
       "      <td>79.0</td>\n",
       "      <td>1</td>\n",
       "      <td>0</td>\n",
       "      <td>1</td>\n",
       "      <td>3</td>\n",
       "      <td>0</td>\n",
       "      <td>174.12</td>\n",
       "      <td>24.0</td>\n",
       "      <td>2</td>\n",
       "      <td>1</td>\n",
       "    </tr>\n",
       "    <tr>\n",
       "      <th>5</th>\n",
       "      <td>1</td>\n",
       "      <td>81.0</td>\n",
       "      <td>0</td>\n",
       "      <td>0</td>\n",
       "      <td>1</td>\n",
       "      <td>2</td>\n",
       "      <td>1</td>\n",
       "      <td>186.21</td>\n",
       "      <td>29.0</td>\n",
       "      <td>1</td>\n",
       "      <td>1</td>\n",
       "    </tr>\n",
       "  </tbody>\n",
       "</table>\n",
       "</div>"
      ],
      "text/plain": [
       "   gender   age  hypertension  heart_disease  ever_married  work_type  \\\n",
       "0       1  67.0             0              1             1          2   \n",
       "2       1  80.0             0              1             1          2   \n",
       "3       0  49.0             0              0             1          2   \n",
       "4       0  79.0             1              0             1          3   \n",
       "5       1  81.0             0              0             1          2   \n",
       "\n",
       "   Residence_type  avg_glucose_level   bmi  smoking_status  stroke  \n",
       "0               1             228.69  36.6               1       1  \n",
       "2               0             105.92  32.5               2       1  \n",
       "3               1             171.23  34.4               3       1  \n",
       "4               0             174.12  24.0               2       1  \n",
       "5               1             186.21  29.0               1       1  "
      ]
     },
     "execution_count": 31,
     "metadata": {},
     "output_type": "execute_result"
    }
   ],
   "source": [
    "dataframe.head()"
   ]
  },
  {
   "cell_type": "code",
   "execution_count": 32,
   "id": "2e9273fb",
   "metadata": {},
   "outputs": [
    {
     "name": "stdout",
     "output_type": "stream",
     "text": [
      "Index(['gender', 'age', 'hypertension', 'heart_disease', 'ever_married',\n",
      "       'work_type', 'Residence_type', 'avg_glucose_level', 'bmi',\n",
      "       'smoking_status', 'stroke'],\n",
      "      dtype='object')\n",
      "<class 'pandas.core.frame.DataFrame'>\n",
      "Index: 4909 entries, 0 to 5109\n",
      "Data columns (total 11 columns):\n",
      " #   Column             Non-Null Count  Dtype  \n",
      "---  ------             --------------  -----  \n",
      " 0   gender             4909 non-null   int32  \n",
      " 1   age                4909 non-null   float64\n",
      " 2   hypertension       4909 non-null   int64  \n",
      " 3   heart_disease      4909 non-null   int64  \n",
      " 4   ever_married       4909 non-null   int32  \n",
      " 5   work_type          4909 non-null   int32  \n",
      " 6   Residence_type     4909 non-null   int32  \n",
      " 7   avg_glucose_level  4909 non-null   float64\n",
      " 8   bmi                4909 non-null   float64\n",
      " 9   smoking_status     4909 non-null   int32  \n",
      " 10  stroke             4909 non-null   int64  \n",
      "dtypes: float64(3), int32(5), int64(3)\n",
      "memory usage: 364.3 KB\n"
     ]
    }
   ],
   "source": [
    "print(dataframe.columns)\n",
    "\n",
    "dataframe.info()"
   ]
  },
  {
   "cell_type": "markdown",
   "id": "92677749",
   "metadata": {
    "papermill": {
     "duration": 0.025543,
     "end_time": "2023-03-31T17:06:18.082299",
     "exception": false,
     "start_time": "2023-03-31T17:06:18.056756",
     "status": "completed"
    },
    "tags": []
   },
   "source": [
    "# Modeling"
   ]
  },
  {
   "cell_type": "code",
   "execution_count": 33,
   "id": "fa352773",
   "metadata": {
    "execution": {
     "iopub.execute_input": "2023-03-31T17:06:18.136544Z",
     "iopub.status.busy": "2023-03-31T17:06:18.135392Z",
     "iopub.status.idle": "2023-03-31T17:06:18.143044Z",
     "shell.execute_reply": "2023-03-31T17:06:18.141990Z"
    },
    "papermill": {
     "duration": 0.037785,
     "end_time": "2023-03-31T17:06:18.145775",
     "exception": false,
     "start_time": "2023-03-31T17:06:18.107990",
     "status": "completed"
    },
    "tags": []
   },
   "outputs": [],
   "source": [
    "y = dataframe[\"stroke\"]\n",
    "X = dataframe.drop([\"stroke\"], axis=1)"
   ]
  },
  {
   "cell_type": "code",
   "execution_count": 34,
   "id": "76e0f0c6",
   "metadata": {
    "execution": {
     "iopub.execute_input": "2023-03-31T17:06:18.249520Z",
     "iopub.status.busy": "2023-03-31T17:06:18.248592Z",
     "iopub.status.idle": "2023-03-31T17:06:18.484783Z",
     "shell.execute_reply": "2023-03-31T17:06:18.482927Z"
    },
    "papermill": {
     "duration": 0.267028,
     "end_time": "2023-03-31T17:06:18.488711",
     "exception": false,
     "start_time": "2023-03-31T17:06:18.221683",
     "status": "completed"
    },
    "tags": []
   },
   "outputs": [],
   "source": [
    "from imblearn.over_sampling import SMOTE\n",
    "smote=SMOTE()\n",
    "x_smote,y_smote=smote.fit_resample(X,y)"
   ]
  },
  {
   "cell_type": "code",
   "execution_count": 35,
   "id": "8b3fb520",
   "metadata": {
    "execution": {
     "iopub.execute_input": "2023-03-31T17:06:18.596171Z",
     "iopub.status.busy": "2023-03-31T17:06:18.595746Z",
     "iopub.status.idle": "2023-03-31T17:06:18.607798Z",
     "shell.execute_reply": "2023-03-31T17:06:18.606773Z"
    },
    "papermill": {
     "duration": 0.056959,
     "end_time": "2023-03-31T17:06:18.610454",
     "exception": false,
     "start_time": "2023-03-31T17:06:18.553495",
     "status": "completed"
    },
    "tags": []
   },
   "outputs": [],
   "source": [
    "x_train_resampled,X_test, y_train_resampled,y_test=train_test_split(x_smote,y_smote,test_size=0.2,random_state=42)"
   ]
  },
  {
   "cell_type": "code",
   "execution_count": 36,
   "id": "53d2ba04",
   "metadata": {
    "execution": {
     "iopub.execute_input": "2023-03-31T17:06:18.663237Z",
     "iopub.status.busy": "2023-03-31T17:06:18.662025Z",
     "iopub.status.idle": "2023-03-31T17:06:18.676822Z",
     "shell.execute_reply": "2023-03-31T17:06:18.675894Z"
    },
    "papermill": {
     "duration": 0.0442,
     "end_time": "2023-03-31T17:06:18.679514",
     "exception": false,
     "start_time": "2023-03-31T17:06:18.635314",
     "status": "completed"
    },
    "tags": []
   },
   "outputs": [],
   "source": [
    "# sc= StandardScaler()\n",
    "# X_train = sc.fit_transform(X_train)\n",
    "# X_test = sc.transform(X_test)"
   ]
  },
  {
   "cell_type": "markdown",
   "id": "094db82b",
   "metadata": {
    "papermill": {
     "duration": 0.027039,
     "end_time": "2023-03-31T17:06:40.434121",
     "exception": false,
     "start_time": "2023-03-31T17:06:40.407082",
     "status": "completed"
    },
    "tags": []
   },
   "source": [
    "# Model Evaluation using 7-Classification Models"
   ]
  },
  {
   "cell_type": "code",
   "execution_count": 37,
   "id": "a78683c2",
   "metadata": {
    "execution": {
     "iopub.execute_input": "2023-03-31T17:06:40.547039Z",
     "iopub.status.busy": "2023-03-31T17:06:40.545520Z",
     "iopub.status.idle": "2023-03-31T17:06:40.554362Z",
     "shell.execute_reply": "2023-03-31T17:06:40.553382Z"
    },
    "papermill": {
     "duration": 0.040427,
     "end_time": "2023-03-31T17:06:40.556758",
     "exception": false,
     "start_time": "2023-03-31T17:06:40.516331",
     "status": "completed"
    },
    "tags": []
   },
   "outputs": [],
   "source": [
    "results = pd.DataFrame(columns = ['RF', 'XGB', 'XGB_RF'], index = range(5))"
   ]
  },
  {
   "cell_type": "markdown",
   "id": "cad53daf",
   "metadata": {
    "papermill": {
     "duration": 0.030734,
     "end_time": "2023-03-31T17:09:32.730405",
     "exception": false,
     "start_time": "2023-03-31T17:09:32.699671",
     "status": "completed"
    },
    "tags": []
   },
   "source": [
    "# Random Forest Classifier"
   ]
  },
  {
   "cell_type": "code",
   "execution_count": 38,
   "id": "a664edff",
   "metadata": {
    "execution": {
     "iopub.execute_input": "2023-03-31T17:09:32.794961Z",
     "iopub.status.busy": "2023-03-31T17:09:32.794246Z",
     "iopub.status.idle": "2023-03-31T17:09:46.328733Z",
     "shell.execute_reply": "2023-03-31T17:09:46.327601Z"
    },
    "papermill": {
     "duration": 13.570636,
     "end_time": "2023-03-31T17:09:46.332049",
     "exception": false,
     "start_time": "2023-03-31T17:09:32.761413",
     "status": "completed"
    },
    "tags": []
   },
   "outputs": [
    {
     "name": "stdout",
     "output_type": "stream",
     "text": [
      "              precision    recall  f1-score   support\n",
      "\n",
      "           0       0.91      0.78      0.84       922\n",
      "           1       0.82      0.92      0.87       958\n",
      "\n",
      "    accuracy                           0.86      1880\n",
      "   macro avg       0.86      0.85      0.85      1880\n",
      "weighted avg       0.86      0.86      0.85      1880\n",
      "\n",
      "ROC AUC score: 0.929\n"
     ]
    }
   ],
   "source": [
    "rf = RandomForestClassifier(random_state = 42, max_depth = 5)\n",
    "rf.fit(x_train_resampled, y_train_resampled)\n",
    "y_pred = rf.predict(X_test)\n",
    "y_prob = rf.predict_proba(X_test)[:,1]\n",
    "\n",
    "# Metrics\n",
    "results.iloc[0, 0] = round(precision_score(y_test, y_pred), 2)\n",
    "results.iloc[1, 0] = round(recall_score(y_test, y_pred), 2)\n",
    "results.iloc[2, 0] = round(f1_score(y_test, y_pred), 2)\n",
    "results.iloc[3, 0] = round(roc_auc_score(y_test, y_prob), 3)\n",
    "rf_cm = confusion_matrix(y_test, y_pred)\n",
    "\n",
    "print(classification_report(y_test, y_pred))\n",
    "print(f'ROC AUC score: {round(roc_auc_score(y_test, y_prob), 3)}')\n",
    "results.iloc[4, 0] = round(cross_val_score(rf, x_train_resampled, y_train_resampled, cv = 5, scoring = 'roc_auc').mean(), 3)\n"
   ]
  },
  {
   "cell_type": "markdown",
   "id": "a989c720",
   "metadata": {
    "papermill": {
     "duration": 0.034438,
     "end_time": "2023-03-31T17:09:51.886619",
     "exception": false,
     "start_time": "2023-03-31T17:09:51.852181",
     "status": "completed"
    },
    "tags": []
   },
   "source": [
    "# XGBoost"
   ]
  },
  {
   "cell_type": "code",
   "execution_count": 39,
   "id": "2e4f7f3a",
   "metadata": {
    "execution": {
     "iopub.execute_input": "2023-03-31T17:09:52.032122Z",
     "iopub.status.busy": "2023-03-31T17:09:52.031640Z",
     "iopub.status.idle": "2023-03-31T17:10:11.789395Z",
     "shell.execute_reply": "2023-03-31T17:10:11.788145Z"
    },
    "papermill": {
     "duration": 19.797563,
     "end_time": "2023-03-31T17:10:11.792560",
     "exception": false,
     "start_time": "2023-03-31T17:09:51.994997",
     "status": "completed"
    },
    "tags": []
   },
   "outputs": [
    {
     "name": "stdout",
     "output_type": "stream",
     "text": [
      "              precision    recall  f1-score   support\n",
      "\n",
      "           0       0.96      0.94      0.95       922\n",
      "           1       0.94      0.96      0.95       958\n",
      "\n",
      "    accuracy                           0.95      1880\n",
      "   macro avg       0.95      0.95      0.95      1880\n",
      "weighted avg       0.95      0.95      0.95      1880\n",
      "\n",
      "ROC AUC score: 0.988\n"
     ]
    }
   ],
   "source": [
    "xgb = XGBClassifier(random_state = 42, max_depth = 5, objective = 'binary:logistic', eval_metric = 'logloss')\n",
    "xgb.fit(x_train_resampled, y_train_resampled)\n",
    "y_pred = xgb.predict(X_test)\n",
    "y_prob = xgb.predict_proba(X_test)[:,1]\n",
    "\n",
    "# Metrics\n",
    "results.iloc[0, 1] = round(precision_score(y_test, y_pred), 2)\n",
    "results.iloc[1, 1] = round(recall_score(y_test, y_pred), 2)\n",
    "results.iloc[2, 1] = round(f1_score(y_test, y_pred), 2)\n",
    "results.iloc[3, 1] = round(roc_auc_score(y_test, y_prob), 3)\n",
    "xgb_cm = confusion_matrix(y_test, y_pred)\n",
    "\n",
    "print(classification_report(y_test, y_pred))\n",
    "print(f'ROC AUC score: {round(roc_auc_score(y_test, y_prob), 3)}')\n"
   ]
  },
  {
   "cell_type": "code",
   "execution_count": 40,
   "id": "72663c18",
   "metadata": {},
   "outputs": [
    {
     "name": "stdout",
     "output_type": "stream",
     "text": [
      "Cross-validation scores with 5 folds:\n",
      "\n",
      "ROC AUC: 0.985\n",
      "precision: 0.92\n",
      "recall: 0.96\n",
      "f1: 0.94\n"
     ]
    }
   ],
   "source": [
    "print('Cross-validation scores with 5 folds:')\n",
    "print('')\n",
    "print(f\"ROC AUC: {round(cross_val_score(xgb, x_train_resampled, y_train_resampled, cv = 5, scoring = 'roc_auc').mean(), 3)}\")\n",
    "print(f\"precision: {round(cross_val_score(xgb, x_train_resampled, y_train_resampled, cv = 5, scoring = 'precision').mean(), 2)}\")\n",
    "print(f\"recall: {round(cross_val_score(xgb, x_train_resampled, y_train_resampled, cv = 5, scoring = 'recall').mean(), 2)}\")\n",
    "print(f\"f1: {round(cross_val_score(xgb, x_train_resampled, y_train_resampled, cv = 5, scoring = 'f1').mean(), 2)}\")\n",
    "\n",
    "results.iloc[4, 1] = round(cross_val_score(xgb, x_train_resampled, y_train_resampled, cv = 5, scoring = 'roc_auc').mean(), 3)\n",
    "\n"
   ]
  },
  {
   "cell_type": "code",
   "execution_count": 41,
   "id": "9f2172dc",
   "metadata": {},
   "outputs": [
    {
     "data": {
      "image/png": "[encoded data removed]",
      "text/plain": [
       "<Figure size 800x500 with 1 Axes>"
      ]
     },
     "metadata": {},
     "output_type": "display_data"
    }
   ],
   "source": [
    "plt.figure(figsize = (8, 5))\n",
    "sns.heatmap(xgb_cm, cmap = 'Blues', annot = True, fmt = 'd', linewidths = 5, cbar = False, annot_kws = {'fontsize': 15},\n",
    "           yticklabels = ['No stroke', 'Stroke'], xticklabels = ['Predicted no stroke', 'Predicted stroke'])\n",
    "plt.yticks(rotation = 0)\n",
    "plt.show()\n"
   ]
  },
  {
   "cell_type": "code",
   "execution_count": 42,
   "id": "ff2e10bc",
   "metadata": {
    "scrolled": true
   },
   "outputs": [
    {
     "data": {
      "image/png": "[encoded data removed]",
      "text/plain": [
       "<Figure size 800x800 with 1 Axes>"
      ]
     },
     "metadata": {},
     "output_type": "display_data"
    }
   ],
   "source": [
    "false_positive_rate, true_positive_rate, thresholds = roc_curve(y_test, y_prob)\n",
    "from sklearn import metrics\n",
    "roc_auc = metrics.auc(false_positive_rate, true_positive_rate)\n",
    "\n",
    "sns.set_theme(style = 'white')\n",
    "plt.figure(figsize = (8, 8))\n",
    "plt.plot(false_positive_rate,true_positive_rate, color = '#b01717', label = 'AUC = %0.3f' % roc_auc)\n",
    "plt.legend(loc = 'lower right')\n",
    "plt.plot([0, 1], [0, 1], linestyle = '--', color = '#174ab0')\n",
    "plt.axis('tight')\n",
    "plt.ylabel('True Positive Rate')\n",
    "plt.xlabel('False Positive Rate')\n",
    "plt.show()"
   ]
  },
  {
   "cell_type": "code",
   "execution_count": 43,
   "id": "5ebe12bf",
   "metadata": {},
   "outputs": [
    {
     "name": "stdout",
     "output_type": "stream",
     "text": [
      "XGBClassifier(base_score=None, booster=None, callbacks=None,\n",
      "              colsample_bylevel=None, colsample_bynode=None,\n",
      "              colsample_bytree=None, device=None, early_stopping_rounds=None,\n",
      "              enable_categorical=False, eval_metric='logloss',\n",
      "              feature_types=None, gamma=None, grow_policy=None,\n",
      "              importance_type=None, interaction_constraints=None,\n",
      "              learning_rate=None, max_bin=None, max_cat_threshold=None,\n",
      "              max_cat_to_onehot=None, max_delta_step=None, max_depth=5,\n",
      "              max_leaves=None, min_child_weight=None, missing=nan,\n",
      "              monotone_constraints=None, multi_strategy=None, n_estimators=None,\n",
      "              n_jobs=None, num_parallel_tree=None, random_state=42, ...)\n"
     ]
    }
   ],
   "source": [
    "import pickle\n",
    "\n",
    "pickle.dump(xgb, open(\"XGBstroke.pkl\", \"wb\"))\n",
    "loadxgbtrainedfile = pickle.load(open(\"XGBstroke.pkl\", \"rb\"))\n",
    "print(loadxgbtrainedfile)"
   ]
  },
  {
   "cell_type": "markdown",
   "id": "1825b302",
   "metadata": {
    "papermill": {
     "duration": 0.040072,
     "end_time": "2023-03-31T17:16:59.336501",
     "exception": false,
     "start_time": "2023-03-31T17:16:59.296429",
     "status": "completed"
    },
    "tags": []
   },
   "source": [
    "# Boosted RandomForest"
   ]
  },
  {
   "cell_type": "code",
   "execution_count": 44,
   "id": "aab89320",
   "metadata": {},
   "outputs": [],
   "source": [
    "import xgboost as xgb\n",
    "from sklearn.ensemble import RandomForestClassifier\n",
    "\n",
    "rf = RandomForestClassifier()\n",
    "\n",
    "xgb_rf = xgb.XGBClassifier(base_estimator=rf,n_estimators=10,learning_rate=0.1,booster='gbtree')\n",
    "\n"
   ]
  },
  {
   "cell_type": "code",
   "execution_count": 45,
   "id": "e89d22d4",
   "metadata": {},
   "outputs": [
    {
     "name": "stdout",
     "output_type": "stream",
     "text": [
      "              precision    recall  f1-score   support\n",
      "\n",
      "           0       0.93      0.83      0.88       922\n",
      "           1       0.85      0.94      0.89       958\n",
      "\n",
      "    accuracy                           0.88      1880\n",
      "   macro avg       0.89      0.88      0.88      1880\n",
      "weighted avg       0.89      0.88      0.88      1880\n",
      "\n",
      "ROC AUC score: 0.946\n"
     ]
    }
   ],
   "source": [
    "xgb_rf.fit(x_train_resampled, y_train_resampled)\n",
    "y_pred = xgb_rf.predict(X_test)\n",
    "y_prob = xgb_rf.predict_proba(X_test)[:,1]\n",
    "\n",
    "# Metrics\n",
    "results.iloc[0, 2] = round(precision_score(y_test, y_pred), 2)\n",
    "results.iloc[1, 2] = round(recall_score(y_test, y_pred), 2)\n",
    "results.iloc[2, 2] = round(f1_score(y_test, y_pred), 2)\n",
    "results.iloc[3, 2] = round(roc_auc_score(y_test, y_prob), 3)\n",
    "xgb_rf_cm = confusion_matrix(y_test, y_pred)\n",
    "\n",
    "print(classification_report(y_test, y_pred))\n",
    "print(f'ROC AUC score: {round(roc_auc_score(y_test, y_prob), 3)}')\n"
   ]
  },
  {
   "cell_type": "code",
   "execution_count": 46,
   "id": "3d5a0be2",
   "metadata": {},
   "outputs": [
    {
     "name": "stdout",
     "output_type": "stream",
     "text": [
      "Cross-validation scores with 5 folds:\n",
      "\n",
      "ROC AUC: 0.929\n",
      "precision: 0.82\n",
      "recall: 0.93\n",
      "f1: 0.87\n"
     ]
    }
   ],
   "source": [
    "print('Cross-validation scores with 5 folds:')\n",
    "print('')\n",
    "print(f\"ROC AUC: {round(cross_val_score(xgb_rf, x_train_resampled, y_train_resampled, cv = 5, scoring = 'roc_auc').mean(), 3)}\")\n",
    "print(f\"precision: {round(cross_val_score(xgb_rf, x_train_resampled, y_train_resampled, cv = 5, scoring = 'precision').mean(), 2)}\")\n",
    "print(f\"recall: {round(cross_val_score(xgb_rf, x_train_resampled, y_train_resampled, cv = 5, scoring = 'recall').mean(), 2)}\")\n",
    "print(f\"f1: {round(cross_val_score(xgb_rf, x_train_resampled, y_train_resampled, cv = 5, scoring = 'f1').mean(), 2)}\")\n",
    "\n",
    "results.iloc[4, 2] = round(cross_val_score(xgb_rf, x_train_resampled, y_train_resampled, cv = 5, scoring = 'roc_auc').mean(), 3)\n"
   ]
  },
  {
   "cell_type": "code",
   "execution_count": 47,
   "id": "058d0af1",
   "metadata": {},
   "outputs": [
    {
     "data": {
      "image/png": "[encoded data removed]",
      "text/plain": [
       "<Figure size 800x500 with 1 Axes>"
      ]
     },
     "metadata": {},
     "output_type": "display_data"
    }
   ],
   "source": [
    "# Visualize confusion matrix\n",
    "plt.figure(figsize = (8, 5))\n",
    "sns.heatmap(xgb_rf_cm, cmap = 'Blues', annot = True, fmt = 'd', linewidths = 5, cbar = False, annot_kws = {'fontsize': 15},\n",
    "           yticklabels = ['No stroke', 'Stroke'], xticklabels = ['Predicted no stroke', 'Predicted stroke'])\n",
    "plt.yticks(rotation = 0)\n",
    "plt.show()\n"
   ]
  },
  {
   "cell_type": "code",
   "execution_count": 48,
   "id": "883f0045",
   "metadata": {},
   "outputs": [
    {
     "data": {
      "image/png": "[encoded data removed]",
      "text/plain": [
       "<Figure size 800x800 with 1 Axes>"
      ]
     },
     "metadata": {},
     "output_type": "display_data"
    }
   ],
   "source": [
    "# Roc curve\n",
    "false_positive_rate, true_positive_rate, thresholds = roc_curve(y_test, y_prob)\n",
    "from sklearn import metrics\n",
    "\n",
    "roc_auc = metrics.auc(false_positive_rate, true_positive_rate)\n",
    "\n",
    "sns.set_theme(style = 'white')\n",
    "plt.figure(figsize = (8, 8))\n",
    "plt.plot(false_positive_rate,true_positive_rate, color = '#b01717', label = 'AUC = %0.3f' % roc_auc)\n",
    "plt.legend(loc = 'lower right')\n",
    "plt.plot([0, 1], [0, 1], linestyle = '--', color = '#174ab0')\n",
    "plt.axis('tight')\n",
    "plt.ylabel('True Positive Rate')\n",
    "plt.xlabel('False Positive Rate')\n",
    "plt.show()"
   ]
  },
  {
   "cell_type": "code",
   "execution_count": 49,
   "id": "35381ff9",
   "metadata": {},
   "outputs": [
    {
     "data": {
      "image/png": "[encoded data removed]",
      "text/plain": [
       "<Figure size 1000x700 with 1 Axes>"
      ]
     },
     "metadata": {},
     "output_type": "display_data"
    }
   ],
   "source": [
    "plt.figure(figsize = (10, 7))\n",
    "sns.heatmap(results[results.columns.to_list()].astype(float), cmap = 'Blues', annot = True, linewidths = 1, cbar = False, annot_kws = {'fontsize': 12},\n",
    "           yticklabels = ['Precision', 'Recall', 'F1', 'ROC AUC','CV_ROC_AUC'])\n",
    "sns.set(font_scale = 1.5)\n",
    "plt.yticks(rotation = 0)\n",
    "plt.show()"
   ]
  },
  {
   "cell_type": "code",
   "execution_count": 50,
   "id": "e21e645b",
   "metadata": {},
   "outputs": [
    {
     "name": "stdout",
     "output_type": "stream",
     "text": [
      "XGBClassifier(base_estimator=RandomForestClassifier(), base_score=None,\n",
      "              booster='gbtree', callbacks=None, colsample_bylevel=None,\n",
      "              colsample_bynode=None, colsample_bytree=None, device=None,\n",
      "              early_stopping_rounds=None, enable_categorical=False,\n",
      "              eval_metric=None, feature_types=None, gamma=None,\n",
      "              grow_policy=None, importance_type=None,\n",
      "              interaction_constraints=None, learning_rate=0.1, max_bin=None,\n",
      "              max_cat_threshold=None, max_cat_to_onehot=None,\n",
      "              max_delta_step=None, max_depth=None, max_leaves=None,\n",
      "              min_child_weight=None, missing=nan, monotone_constraints=None,\n",
      "              multi_strategy=None, n_estimators=10, n_jobs=None,\n",
      "              num_parallel_tree=None, ...)\n"
     ]
    }
   ],
   "source": [
    "pickle.dump(xgb_rf, open(\"XGB_RFstroke.pkl\", \"wb\"))\n",
    "loadxgbrftrainedfile = pickle.load(open(\"XGB_RFstroke.pkl\", \"rb\"))\n",
    "print(loadxgbrftrainedfile)"
   ]
  }
 ],
 "metadata": {
  "kernelspec": {
   "display_name": "nomkl-env",
   "language": "python",
   "name": "python3"
  },
  "language_info": {
   "codemirror_mode": {
    "name": "ipython",
    "version": 3
   },
   "file_extension": ".py",
   "mimetype": "text/x-python",
   "name": "python",
   "nbconvert_exporter": "python",
   "pygments_lexer": "ipython3",
   "version": "3.8.1"
  },
  "papermill": {
   "default_parameters": {},
   "duration": 741.40545,
   "end_time": "2023-03-31T17:18:20.642145",
   "environment_variables": {},
   "exception": null,
   "input_path": "__notebook__.ipynb",
   "output_path": "__notebook__.ipynb",
   "parameters": {},
   "start_time": "2023-03-31T17:05:59.236695",
   "version": "2.4.0"
  }
 },
 "nbformat": 4,
 "nbformat_minor": 5
}
